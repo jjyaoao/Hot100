{
 "cells": [
  {
   "attachments": {},
   "cell_type": "markdown",
   "metadata": {},
   "source": [
    "给你一个字符串数组，请你将 字母异位词 组合在一起。可以按任意顺序返回结果列表。\n",
    "\n",
    "字母异位词 是由重新排列源单词的所有字母得到的一个新单词。\n",
    "\n",
    " \n",
    "\n",
    "示例 1:\n",
    "\n",
    "输入: strs = [eat, tea, tan, ate, nat, bat]\n",
    "输出: [[bat],[nat,tan],[ate,eat,tea]]\n",
    "\n",
    "示例 2:\n",
    "\n",
    "输入: strs = []\n",
    "输出: [[]]\n",
    "\n",
    "示例 3:\n",
    "\n",
    "输入: strs = [a]\n",
    "输出: [[a]]\n",
    " \n",
    "\n",
    "提示：\n",
    "\n",
    "1 <= strs.length <= 104\n",
    "0 <= strs[i].length <= 100\n",
    "strs[i] 仅包含小写字母"
   ]
  },
  {
   "cell_type": "code",
   "execution_count": 16,
   "metadata": {},
   "outputs": [
    {
     "data": {
      "text/plain": [
       "[['eat', 'tea', 'ate'], ['tan', 'nat'], ['bat']]"
      ]
     },
     "execution_count": 16,
     "metadata": {},
     "output_type": "execute_result"
    }
   ],
   "source": [
    "# eat,tea,tan,ate,nat,bat\n",
    "\n",
    "strs = input().split(',')\n",
    "\n",
    "def groupAnagrams(strs):\n",
    "\n",
    "    str_dict = {}\n",
    "    for s in strs:\n",
    "        sorted_s = \"\".join(sorted(s))\n",
    "        if sorted_s not in str_dict:\n",
    "            str_dict[sorted_s] = []\n",
    "        str_dict[sorted_s].append(s)\n",
    "    return list(str_dict.values())\n",
    "groupAnagrams(strs)"
   ]
  },
  {
   "cell_type": "code",
   "execution_count": 26,
   "metadata": {},
   "outputs": [
    {
     "name": "stdout",
     "output_type": "stream",
     "text": [
      "[['eat', 'tea', 'ate'], ['tan', 'nat'], ['bat']]\n"
     ]
    }
   ],
   "source": [
    "# 主要思路，先对每一个string进行排序，然后合并同类项，用字典\n",
    "# eat,tea,tan,ate,nat,bat\n",
    "\n",
    "strs = input().split(\",\")\n",
    "\n",
    "def mytest(strs):\n",
    "    d = {}\n",
    "    for s in strs:\n",
    "        s_sort = \"\".join(sorted(s))\n",
    "        # print(s)\n",
    "        if s_sort not in d:\n",
    "            d[s_sort] = []\n",
    "        d[s_sort].append(s)\n",
    "    return d\n",
    "print(list(mytest(strs).values()))"
   ]
  }
 ],
 "metadata": {
  "kernelspec": {
   "display_name": "base",
   "language": "python",
   "name": "python3"
  },
  "language_info": {
   "codemirror_mode": {
    "name": "ipython",
    "version": 3
   },
   "file_extension": ".py",
   "mimetype": "text/x-python",
   "name": "python",
   "nbconvert_exporter": "python",
   "pygments_lexer": "ipython3",
   "version": "3.9.13"
  },
  "orig_nbformat": 4
 },
 "nbformat": 4,
 "nbformat_minor": 2
}
