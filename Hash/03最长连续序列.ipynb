{
 "cells": [
  {
   "attachments": {},
   "cell_type": "markdown",
   "metadata": {},
   "source": [
    "给定一个未排序的整数数组 nums ，找出数字连续的最长序列（不要求序列元素在原数组中连续）的长度。\n",
    "\n",
    "请你设计并实现时间复杂度为 O(n) 的算法解决此问题。\n",
    "\n",
    " \n",
    "\n",
    "示例 1：\n",
    "\n",
    "输入：nums = [100,4,200,1,3,2]\n",
    "输出：4\n",
    "解释：最长数字连续序列是 [1, 2, 3, 4]。它的长度为 4。\n",
    "\n",
    "示例 2：\n",
    "\n",
    "输入：nums = [0,3,7,2,5,8,4,6,0,1]\n",
    "输出：9\n",
    "\n",
    "示例 3：\n",
    "\n",
    "输入：nums = [1,0,1,2]\n",
    "输出：3\n",
    " \n",
    "\n",
    "提示：\n",
    "\n",
    "0 <= nums.length <= 105\n",
    "-109 <= nums[i] <= 109"
   ]
  },
  {
   "cell_type": "code",
   "execution_count": 11,
   "metadata": {},
   "outputs": [
    {
     "data": {
      "text/plain": [
       "4"
      ]
     },
     "execution_count": 11,
     "metadata": {},
     "output_type": "execute_result"
    }
   ],
   "source": [
    "# [100,4,200,1,3,2]\n",
    "nums = list(map(int, input().split(',')))\n",
    "\n",
    "def mytest(nums):\n",
    "    ans = 0\n",
    "    st = set(nums)\n",
    "    # print(st)\n",
    "    for x in st:\n",
    "        if x-1 in st:\n",
    "            continue\n",
    "        y = x + 1\n",
    "        while y in st:\n",
    "            y += 1\n",
    "        ans = max(ans, y-x)\n",
    "    return ans\n",
    "mytest(nums)"
   ]
  },
  {
   "cell_type": "code",
   "execution_count": 15,
   "metadata": {},
   "outputs": [
    {
     "data": {
      "text/plain": [
       "4"
      ]
     },
     "execution_count": 15,
     "metadata": {},
     "output_type": "execute_result"
    }
   ],
   "source": [
    "# [100,4,200,1,3,2]\n",
    "\n",
    "nums = list(map(int, input().split(\",\")))\n",
    "# nums\n",
    "def mytest(nums):\n",
    "    ans = 0 \n",
    "    mset = set(nums)\n",
    "    # print(mset)\n",
    "    for i in mset:\n",
    "        if i-1 in mset:\n",
    "            continue\n",
    "        y = i + 1\n",
    "        while y in mset:\n",
    "            y += 1\n",
    "        ans = max(ans, y-1 - i + 1)\n",
    "    return ans\n",
    "mytest(nums)"
   ]
  }
 ],
 "metadata": {
  "kernelspec": {
   "display_name": "base",
   "language": "python",
   "name": "python3"
  },
  "language_info": {
   "codemirror_mode": {
    "name": "ipython",
    "version": 3
   },
   "file_extension": ".py",
   "mimetype": "text/x-python",
   "name": "python",
   "nbconvert_exporter": "python",
   "pygments_lexer": "ipython3",
   "version": "3.9.13"
  },
  "orig_nbformat": 4
 },
 "nbformat": 4,
 "nbformat_minor": 2
}
